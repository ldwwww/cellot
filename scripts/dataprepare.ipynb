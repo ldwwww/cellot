{
 "cells": [
  {
   "cell_type": "markdown",
   "metadata": {},
   "source": [
    "### 1.cellot data"
   ]
  },
  {
   "cell_type": "markdown",
   "metadata": {},
   "source": [
    "#### 1.1.lupus "
   ]
  },
  {
   "cell_type": "code",
   "execution_count": 21,
   "metadata": {},
   "outputs": [
    {
     "name": "stdout",
     "output_type": "stream",
     "text": [
      "sample nums: 28871\n",
      "sample id nums: 8\n",
      "cell type nums: 8\n"
     ]
    }
   ],
   "source": [
    "import anndata\n",
    "lupus = anndata.read(\"../datasets/scrna-lupuspatients/kang-hvg.h5ad\")\n",
    "print(f\"sample nums: {lupus.obs.shape[0]}\")\n",
    "print(f\"sample id nums: {len(set(lupus.obs['sample_id']))}\")\n",
    "print(f\"cell type nums: {len(set(lupus.obs['cell_type']))}\")"
   ]
  },
  {
   "cell_type": "code",
   "execution_count": 16,
   "metadata": {},
   "outputs": [
    {
     "data": {
      "text/html": [
       "<div>\n",
       "<style scoped>\n",
       "    .dataframe tbody tr th:only-of-type {\n",
       "        vertical-align: middle;\n",
       "    }\n",
       "\n",
       "    .dataframe tbody tr th {\n",
       "        vertical-align: top;\n",
       "    }\n",
       "\n",
       "    .dataframe thead th {\n",
       "        text-align: right;\n",
       "    }\n",
       "</style>\n",
       "<table border=\"1\" class=\"dataframe\">\n",
       "  <thead>\n",
       "    <tr style=\"text-align: right;\">\n",
       "      <th></th>\n",
       "      <th>sample_id</th>\n",
       "      <th>condition</th>\n",
       "      <th>cluster</th>\n",
       "      <th>cell_type</th>\n",
       "      <th>multiplets</th>\n",
       "      <th>n_genes</th>\n",
       "    </tr>\n",
       "    <tr>\n",
       "      <th>barcode</th>\n",
       "      <th></th>\n",
       "      <th></th>\n",
       "      <th></th>\n",
       "      <th></th>\n",
       "      <th></th>\n",
       "      <th></th>\n",
       "    </tr>\n",
       "  </thead>\n",
       "  <tbody>\n",
       "    <tr>\n",
       "      <th>AAACATACAATGCC-1</th>\n",
       "      <td>107</td>\n",
       "      <td>ctrl</td>\n",
       "      <td>5</td>\n",
       "      <td>CD4 T cells</td>\n",
       "      <td>doublet</td>\n",
       "      <td>852</td>\n",
       "    </tr>\n",
       "    <tr>\n",
       "      <th>AAACATACATTTCC-1</th>\n",
       "      <td>1016</td>\n",
       "      <td>ctrl</td>\n",
       "      <td>9</td>\n",
       "      <td>CD14+ Monocytes</td>\n",
       "      <td>singlet</td>\n",
       "      <td>878</td>\n",
       "    </tr>\n",
       "    <tr>\n",
       "      <th>AAACATACCAGAAA-1</th>\n",
       "      <td>1256</td>\n",
       "      <td>ctrl</td>\n",
       "      <td>9</td>\n",
       "      <td>CD14+ Monocytes</td>\n",
       "      <td>singlet</td>\n",
       "      <td>713</td>\n",
       "    </tr>\n",
       "    <tr>\n",
       "      <th>AAACATACCAGCTA-1</th>\n",
       "      <td>1256</td>\n",
       "      <td>ctrl</td>\n",
       "      <td>9</td>\n",
       "      <td>CD14+ Monocytes</td>\n",
       "      <td>doublet</td>\n",
       "      <td>950</td>\n",
       "    </tr>\n",
       "    <tr>\n",
       "      <th>AAACATACCATGCA-1</th>\n",
       "      <td>1488</td>\n",
       "      <td>ctrl</td>\n",
       "      <td>3</td>\n",
       "      <td>CD4 T cells</td>\n",
       "      <td>singlet</td>\n",
       "      <td>337</td>\n",
       "    </tr>\n",
       "  </tbody>\n",
       "</table>\n",
       "</div>"
      ],
      "text/plain": [
       "                 sample_id condition  cluster        cell_type multiplets  \\\n",
       "barcode                                                                     \n",
       "AAACATACAATGCC-1       107      ctrl        5      CD4 T cells    doublet   \n",
       "AAACATACATTTCC-1      1016      ctrl        9  CD14+ Monocytes    singlet   \n",
       "AAACATACCAGAAA-1      1256      ctrl        9  CD14+ Monocytes    singlet   \n",
       "AAACATACCAGCTA-1      1256      ctrl        9  CD14+ Monocytes    doublet   \n",
       "AAACATACCATGCA-1      1488      ctrl        3      CD4 T cells    singlet   \n",
       "\n",
       "                  n_genes  \n",
       "barcode                    \n",
       "AAACATACAATGCC-1      852  \n",
       "AAACATACATTTCC-1      878  \n",
       "AAACATACCAGAAA-1      713  \n",
       "AAACATACCAGCTA-1      950  \n",
       "AAACATACCATGCA-1      337  "
      ]
     },
     "execution_count": 16,
     "metadata": {},
     "output_type": "execute_result"
    }
   ],
   "source": [
    "lupus.obs.head()"
   ]
  },
  {
   "cell_type": "markdown",
   "metadata": {},
   "source": [
    "### 2.scgen data"
   ]
  },
  {
   "cell_type": "markdown",
   "metadata": {},
   "source": [
    "#### 2.1.pbmc"
   ]
  },
  {
   "cell_type": "code",
   "execution_count": 4,
   "metadata": {},
   "outputs": [],
   "source": [
    "import anndata\n",
    "adata = anndata.read_h5ad(\"../scgen-datasets/pbmc-combine.h5ad\")\n",
    "adata_df = adata.to_df().head()"
   ]
  },
  {
   "cell_type": "code",
   "execution_count": 5,
   "metadata": {},
   "outputs": [
    {
     "name": "stdout",
     "output_type": "stream",
     "text": [
      "6998\n"
     ]
    }
   ],
   "source": [
    "print(adata_df.shape[1])"
   ]
  },
  {
   "cell_type": "code",
   "execution_count": 30,
   "metadata": {},
   "outputs": [
    {
     "data": {
      "text/html": [
       "<div>\n",
       "<style scoped>\n",
       "    .dataframe tbody tr th:only-of-type {\n",
       "        vertical-align: middle;\n",
       "    }\n",
       "\n",
       "    .dataframe tbody tr th {\n",
       "        vertical-align: top;\n",
       "    }\n",
       "\n",
       "    .dataframe thead th {\n",
       "        text-align: right;\n",
       "    }\n",
       "</style>\n",
       "<table border=\"1\" class=\"dataframe\">\n",
       "  <thead>\n",
       "    <tr style=\"text-align: right;\">\n",
       "      <th></th>\n",
       "      <th>condition</th>\n",
       "      <th>n_counts</th>\n",
       "      <th>n_genes</th>\n",
       "      <th>mt_frac</th>\n",
       "      <th>cell</th>\n",
       "    </tr>\n",
       "    <tr>\n",
       "      <th>index</th>\n",
       "      <th></th>\n",
       "      <th></th>\n",
       "      <th></th>\n",
       "      <th></th>\n",
       "      <th></th>\n",
       "    </tr>\n",
       "  </thead>\n",
       "  <tbody>\n",
       "    <tr>\n",
       "      <th>TGCTGAGATGCTAG-1-control</th>\n",
       "      <td>control</td>\n",
       "      <td>2528.0</td>\n",
       "      <td>841</td>\n",
       "      <td>0.0</td>\n",
       "      <td>FCGR3A+Mono</td>\n",
       "    </tr>\n",
       "    <tr>\n",
       "      <th>CAGACTGACAATCG-1-control</th>\n",
       "      <td>control</td>\n",
       "      <td>1246.0</td>\n",
       "      <td>529</td>\n",
       "      <td>0.0</td>\n",
       "      <td>CD4T</td>\n",
       "    </tr>\n",
       "    <tr>\n",
       "      <th>GTTGGATGCTTAGG-1-control</th>\n",
       "      <td>control</td>\n",
       "      <td>5722.0</td>\n",
       "      <td>1651</td>\n",
       "      <td>0.0</td>\n",
       "      <td>FCGR3A+Mono</td>\n",
       "    </tr>\n",
       "    <tr>\n",
       "      <th>TTCAAGCTAGCACT-1-control</th>\n",
       "      <td>control</td>\n",
       "      <td>1929.0</td>\n",
       "      <td>732</td>\n",
       "      <td>0.0</td>\n",
       "      <td>CD14+Mono</td>\n",
       "    </tr>\n",
       "    <tr>\n",
       "      <th>ACCGAAACATTGGC-1-stimulated</th>\n",
       "      <td>stimulated</td>\n",
       "      <td>1096.0</td>\n",
       "      <td>529</td>\n",
       "      <td>0.0</td>\n",
       "      <td>NK</td>\n",
       "    </tr>\n",
       "  </tbody>\n",
       "</table>\n",
       "</div>"
      ],
      "text/plain": [
       "                              condition  n_counts  n_genes  mt_frac  \\\n",
       "index                                                                 \n",
       "TGCTGAGATGCTAG-1-control        control    2528.0      841      0.0   \n",
       "CAGACTGACAATCG-1-control        control    1246.0      529      0.0   \n",
       "GTTGGATGCTTAGG-1-control        control    5722.0     1651      0.0   \n",
       "TTCAAGCTAGCACT-1-control        control    1929.0      732      0.0   \n",
       "ACCGAAACATTGGC-1-stimulated  stimulated    1096.0      529      0.0   \n",
       "\n",
       "                                    cell  \n",
       "index                                     \n",
       "TGCTGAGATGCTAG-1-control     FCGR3A+Mono  \n",
       "CAGACTGACAATCG-1-control            CD4T  \n",
       "GTTGGATGCTTAGG-1-control     FCGR3A+Mono  \n",
       "TTCAAGCTAGCACT-1-control       CD14+Mono  \n",
       "ACCGAAACATTGGC-1-stimulated           NK  "
      ]
     },
     "execution_count": 30,
     "metadata": {},
     "output_type": "execute_result"
    }
   ],
   "source": [
    "adata.obs.head()"
   ]
  },
  {
   "cell_type": "code",
   "execution_count": 31,
   "metadata": {},
   "outputs": [
    {
     "name": "stdout",
     "output_type": "stream",
     "text": [
      "18868\n",
      "{'FCGR3A+Mono', 'CD14+Mono', 'Dendritic', 'CD8T', 'NK', 'B', 'CD4T'}\n",
      "sample nums: 18868\n"
     ]
    }
   ],
   "source": [
    "print(adata.obs.shape[0])\n",
    "print(set(adata.obs['cell']))\n",
    "print(f\"sample nums: {adata.obs.shape[0]}\")"
   ]
  },
  {
   "cell_type": "code",
   "execution_count": 9,
   "metadata": {},
   "outputs": [
    {
     "ename": "AttributeError",
     "evalue": "'DataFrame' object has no attribute 'highly_variable'",
     "output_type": "error",
     "traceback": [
      "\u001b[1;31m---------------------------------------------------------------------------\u001b[0m",
      "\u001b[1;31mAttributeError\u001b[0m                            Traceback (most recent call last)",
      "\u001b[1;32m~\\AppData\\Local\\Temp\\ipykernel_35972\\2943269840.py\u001b[0m in \u001b[0;36m?\u001b[1;34m()\u001b[0m\n\u001b[1;32m----> 5\u001b[1;33m \u001b[0madata\u001b[0m\u001b[1;33m.\u001b[0m\u001b[0mobs\u001b[0m\u001b[1;33m.\u001b[0m\u001b[0mrename\u001b[0m\u001b[1;33m(\u001b[0m\u001b[0mcolumns\u001b[0m\u001b[1;33m=\u001b[0m\u001b[1;33m{\u001b[0m\u001b[1;34m'cell_type'\u001b[0m\u001b[1;33m:\u001b[0m\u001b[1;34m'cell'\u001b[0m\u001b[1;33m}\u001b[0m\u001b[1;33m,\u001b[0m \u001b[0minplace\u001b[0m\u001b[1;33m=\u001b[0m\u001b[1;32mTrue\u001b[0m\u001b[1;33m)\u001b[0m\u001b[1;33m\u001b[0m\u001b[1;33m\u001b[0m\u001b[0m\n\u001b[0m\u001b[0;32m      6\u001b[0m \u001b[0madata\u001b[0m\u001b[1;33m.\u001b[0m\u001b[0mobs_names_make_unique\u001b[0m\u001b[1;33m(\u001b[0m\u001b[1;33m)\u001b[0m\u001b[1;33m\u001b[0m\u001b[1;33m\u001b[0m\u001b[0m\n\u001b[0;32m      7\u001b[0m \u001b[0madata\u001b[0m\u001b[1;33m.\u001b[0m\u001b[0mwrite_h5ad\u001b[0m\u001b[1;33m(\u001b[0m\u001b[1;34m'../scgen-datasets/pbmc-combine.h5ad'\u001b[0m\u001b[1;33m)\u001b[0m\u001b[1;33m\u001b[0m\u001b[1;33m\u001b[0m\u001b[0m\n\u001b[0;32m      8\u001b[0m \u001b[1;31m# 从adata选取50个marker基因\u001b[0m\u001b[1;33m\u001b[0m\u001b[1;33m\u001b[0m\u001b[1;33m\u001b[0m\u001b[0m\n",
      "\u001b[1;32mc:\\Users\\ldw15\\.conda\\envs\\cellot\\lib\\site-packages\\pandas\\core\\generic.py\u001b[0m in \u001b[0;36m?\u001b[1;34m(self, name)\u001b[0m\n\u001b[0;32m   5461\u001b[0m             \u001b[1;32mreturn\u001b[0m \u001b[0mobject\u001b[0m\u001b[1;33m.\u001b[0m\u001b[0m__getattribute__\u001b[0m\u001b[1;33m(\u001b[0m\u001b[0mself\u001b[0m\u001b[1;33m,\u001b[0m \u001b[0mname\u001b[0m\u001b[1;33m)\u001b[0m\u001b[1;33m\u001b[0m\u001b[1;33m\u001b[0m\u001b[0m\n\u001b[0;32m   5462\u001b[0m         \u001b[1;32melse\u001b[0m\u001b[1;33m:\u001b[0m\u001b[1;33m\u001b[0m\u001b[1;33m\u001b[0m\u001b[0m\n\u001b[0;32m   5463\u001b[0m             \u001b[1;32mif\u001b[0m \u001b[0mself\u001b[0m\u001b[1;33m.\u001b[0m\u001b[0m_info_axis\u001b[0m\u001b[1;33m.\u001b[0m\u001b[0m_can_hold_identifiers_and_holds_name\u001b[0m\u001b[1;33m(\u001b[0m\u001b[0mname\u001b[0m\u001b[1;33m)\u001b[0m\u001b[1;33m:\u001b[0m\u001b[1;33m\u001b[0m\u001b[1;33m\u001b[0m\u001b[0m\n\u001b[0;32m   5464\u001b[0m                 \u001b[1;32mreturn\u001b[0m \u001b[0mself\u001b[0m\u001b[1;33m[\u001b[0m\u001b[0mname\u001b[0m\u001b[1;33m]\u001b[0m\u001b[1;33m\u001b[0m\u001b[1;33m\u001b[0m\u001b[0m\n\u001b[1;32m-> 5465\u001b[1;33m             \u001b[1;32mreturn\u001b[0m \u001b[0mobject\u001b[0m\u001b[1;33m.\u001b[0m\u001b[0m__getattribute__\u001b[0m\u001b[1;33m(\u001b[0m\u001b[0mself\u001b[0m\u001b[1;33m,\u001b[0m \u001b[0mname\u001b[0m\u001b[1;33m)\u001b[0m\u001b[1;33m\u001b[0m\u001b[1;33m\u001b[0m\u001b[0m\n\u001b[0m",
      "\u001b[1;31mAttributeError\u001b[0m: 'DataFrame' object has no attribute 'highly_variable'"
     ]
    }
   ],
   "source": [
    "adata.obs.rename(columns={'cell_type':'cell'}, inplace=True)\n",
    "adata.obs_names_make_unique()\n",
    "adata.write_h5ad('../scgen-datasets/pbmc-combine.h5ad')\n",
    "# 从adata选取50个marker基因\n",
    "markers = adata.var_names[adata.var.highly_variable].tolist()\n",
    "print(markers)"
   ]
  },
  {
   "cell_type": "markdown",
   "metadata": {},
   "source": [
    "#### extract high var gene and change to low dimension"
   ]
  },
  {
   "cell_type": "code",
   "execution_count": 14,
   "metadata": {},
   "outputs": [
    {
     "name": "stdout",
     "output_type": "stream",
     "text": [
      "['HES4', 'TNFRSF18', 'TNFRSF4', 'MIB2', 'TNFRSF9', 'CA6', 'KIAA2013', 'CROCCP2', 'C1QB', 'ID3', 'FUCA1', 'STMN1', 'SNHG12', 'KPNA6', 'S100PBP', 'EIF2B3', 'GADD45A', 'TYW3', 'ZZZ3', 'NEXN', 'GBP5', 'RPAP2', 'S1PR1', 'DDX20', 'RSBN1', 'BCAS2', 'SIKE1', 'VPS45', 'S100A9', 'S100A12', 'S100A8', 'GPATCH4', 'SH2D2A', 'MNDA', 'PYHIN1', 'SLAMF1', 'SLAMF7', 'LY9', 'PFDN2', 'HSPA6', 'SH2D1B', 'CD247', 'XCL2', 'XCL1', 'FASLG', 'CACYBP', 'RGS16', 'C1orf21', 'RGS1', 'RGS2']\n"
     ]
    }
   ],
   "source": [
    "import scanpy as sc\n",
    "adata = anndata.read_h5ad(\"../scgen-datasets/pbmc-combine.h5ad\")\n",
    "sc.pp.highly_variable_genes(adata, min_mean=0.0125, max_mean=3, min_disp=0.5)\n",
    "\n",
    "# 提取前50个高变基因\n",
    "markers = adata.var_names[adata.var.highly_variable].tolist()[:50]\n",
    "print(markers)\n",
    "\n",
    "# 从adata提取这些marker写入新的文件\n",
    "adata_sub = adata[:, markers]\n",
    "adata_sub.write(\"../scgen-datasets/pbmc-combine-sub.h5ad\")"
   ]
  },
  {
   "cell_type": "code",
   "execution_count": 8,
   "metadata": {},
   "outputs": [
    {
     "ename": "AnnDataReadError",
     "evalue": "Above error raised while reading key '/layers' of type <class 'h5py._hl.group.Group'> from /.",
     "output_type": "error",
     "traceback": [
      "\u001b[1;31m---------------------------------------------------------------------------\u001b[0m",
      "\u001b[1;31mKeyError\u001b[0m                                  Traceback (most recent call last)",
      "File \u001b[1;32mc:\\Users\\ldw15\\.conda\\envs\\cellot\\lib\\site-packages\\anndata\\_io\\utils.py:177\u001b[0m, in \u001b[0;36mreport_read_key_on_error.<locals>.func_wrapper\u001b[1;34m(elem, *args, **kwargs)\u001b[0m\n\u001b[0;32m    176\u001b[0m \u001b[38;5;28;01mtry\u001b[39;00m:\n\u001b[1;32m--> 177\u001b[0m     \u001b[38;5;28;01mreturn\u001b[39;00m func(elem, \u001b[38;5;241m*\u001b[39margs, \u001b[38;5;241m*\u001b[39m\u001b[38;5;241m*\u001b[39mkwargs)\n\u001b[0;32m    178\u001b[0m \u001b[38;5;28;01mexcept\u001b[39;00m \u001b[38;5;167;01mException\u001b[39;00m \u001b[38;5;28;01mas\u001b[39;00m e:\n",
      "File \u001b[1;32mc:\\Users\\ldw15\\.conda\\envs\\cellot\\lib\\site-packages\\anndata\\_io\\h5ad.py:527\u001b[0m, in \u001b[0;36mread_group\u001b[1;34m(group)\u001b[0m\n\u001b[0;32m    526\u001b[0m \u001b[38;5;28;01mif\u001b[39;00m encoding_type:\n\u001b[1;32m--> 527\u001b[0m     \u001b[43mEncodingVersions\u001b[49m\u001b[43m[\u001b[49m\u001b[43mencoding_type\u001b[49m\u001b[43m]\u001b[49m\u001b[38;5;241m.\u001b[39mcheck(\n\u001b[0;32m    528\u001b[0m         group\u001b[38;5;241m.\u001b[39mname, group\u001b[38;5;241m.\u001b[39mattrs[\u001b[38;5;124m\"\u001b[39m\u001b[38;5;124mencoding-version\u001b[39m\u001b[38;5;124m\"\u001b[39m]\n\u001b[0;32m    529\u001b[0m     )\n\u001b[0;32m    530\u001b[0m \u001b[38;5;28;01mif\u001b[39;00m encoding_type \u001b[38;5;129;01min\u001b[39;00m {\u001b[38;5;28;01mNone\u001b[39;00m, \u001b[38;5;124m\"\u001b[39m\u001b[38;5;124mraw\u001b[39m\u001b[38;5;124m\"\u001b[39m}:\n",
      "File \u001b[1;32mc:\\Users\\ldw15\\.conda\\envs\\cellot\\lib\\enum.py:408\u001b[0m, in \u001b[0;36mEnumMeta.__getitem__\u001b[1;34m(cls, name)\u001b[0m\n\u001b[0;32m    407\u001b[0m \u001b[38;5;28;01mdef\u001b[39;00m \u001b[38;5;21m__getitem__\u001b[39m(\u001b[38;5;28mcls\u001b[39m, name):\n\u001b[1;32m--> 408\u001b[0m     \u001b[38;5;28;01mreturn\u001b[39;00m \u001b[38;5;28;43mcls\u001b[39;49m\u001b[38;5;241;43m.\u001b[39;49m\u001b[43m_member_map_\u001b[49m\u001b[43m[\u001b[49m\u001b[43mname\u001b[49m\u001b[43m]\u001b[49m\n",
      "\u001b[1;31mKeyError\u001b[0m: 'dict'",
      "\nDuring handling of the above exception, another exception occurred:\n",
      "\u001b[1;31mAnnDataReadError\u001b[0m                          Traceback (most recent call last)",
      "Cell \u001b[1;32mIn[8], line 1\u001b[0m\n\u001b[1;32m----> 1\u001b[0m pbmc_ld \u001b[38;5;241m=\u001b[39m \u001b[43manndata\u001b[49m\u001b[38;5;241;43m.\u001b[39;49m\u001b[43mread_h5ad\u001b[49m\u001b[43m(\u001b[49m\n\u001b[0;32m      2\u001b[0m \u001b[43m    \u001b[49m\u001b[38;5;124;43m\"\u001b[39;49m\u001b[38;5;124;43m../scgen-datasets/pbmc-low-dim.h5ad\u001b[39;49m\u001b[38;5;124;43m\"\u001b[39;49m\u001b[43m \u001b[49m\n\u001b[0;32m      3\u001b[0m \u001b[43m)\u001b[49m\n\u001b[0;32m      4\u001b[0m pbmc_ld\u001b[38;5;241m.\u001b[39mobs\n",
      "File \u001b[1;32mc:\\Users\\ldw15\\.conda\\envs\\cellot\\lib\\site-packages\\anndata\\_io\\h5ad.py:421\u001b[0m, in \u001b[0;36mread_h5ad\u001b[1;34m(filename, backed, as_sparse, as_sparse_fmt, chunk_size)\u001b[0m\n\u001b[0;32m    419\u001b[0m         d[k] \u001b[38;5;241m=\u001b[39m read_dataframe(f[k])\n\u001b[0;32m    420\u001b[0m     \u001b[38;5;28;01melse\u001b[39;00m:  \u001b[38;5;66;03m# Base case\u001b[39;00m\n\u001b[1;32m--> 421\u001b[0m         d[k] \u001b[38;5;241m=\u001b[39m \u001b[43mread_attribute\u001b[49m\u001b[43m(\u001b[49m\u001b[43mf\u001b[49m\u001b[43m[\u001b[49m\u001b[43mk\u001b[49m\u001b[43m]\u001b[49m\u001b[43m)\u001b[49m\n\u001b[0;32m    423\u001b[0m d[\u001b[38;5;124m\"\u001b[39m\u001b[38;5;124mraw\u001b[39m\u001b[38;5;124m\"\u001b[39m] \u001b[38;5;241m=\u001b[39m _read_raw(f, as_sparse, rdasp)\n\u001b[0;32m    425\u001b[0m X_dset \u001b[38;5;241m=\u001b[39m f\u001b[38;5;241m.\u001b[39mget(\u001b[38;5;124m\"\u001b[39m\u001b[38;5;124mX\u001b[39m\u001b[38;5;124m\"\u001b[39m, \u001b[38;5;28;01mNone\u001b[39;00m)\n",
      "File \u001b[1;32mc:\\Users\\ldw15\\.conda\\envs\\cellot\\lib\\functools.py:877\u001b[0m, in \u001b[0;36msingledispatch.<locals>.wrapper\u001b[1;34m(*args, **kw)\u001b[0m\n\u001b[0;32m    873\u001b[0m \u001b[38;5;28;01mif\u001b[39;00m \u001b[38;5;129;01mnot\u001b[39;00m args:\n\u001b[0;32m    874\u001b[0m     \u001b[38;5;28;01mraise\u001b[39;00m \u001b[38;5;167;01mTypeError\u001b[39;00m(\u001b[38;5;124mf\u001b[39m\u001b[38;5;124m'\u001b[39m\u001b[38;5;132;01m{\u001b[39;00mfuncname\u001b[38;5;132;01m}\u001b[39;00m\u001b[38;5;124m requires at least \u001b[39m\u001b[38;5;124m'\u001b[39m\n\u001b[0;32m    875\u001b[0m                     \u001b[38;5;124m'\u001b[39m\u001b[38;5;124m1 positional argument\u001b[39m\u001b[38;5;124m'\u001b[39m)\n\u001b[1;32m--> 877\u001b[0m \u001b[38;5;28;01mreturn\u001b[39;00m dispatch(args[\u001b[38;5;241m0\u001b[39m]\u001b[38;5;241m.\u001b[39m\u001b[38;5;18m__class__\u001b[39m)(\u001b[38;5;241m*\u001b[39margs, \u001b[38;5;241m*\u001b[39m\u001b[38;5;241m*\u001b[39mkw)\n",
      "File \u001b[1;32mc:\\Users\\ldw15\\.conda\\envs\\cellot\\lib\\site-packages\\anndata\\_io\\utils.py:183\u001b[0m, in \u001b[0;36mreport_read_key_on_error.<locals>.func_wrapper\u001b[1;34m(elem, *args, **kwargs)\u001b[0m\n\u001b[0;32m    181\u001b[0m \u001b[38;5;28;01melse\u001b[39;00m:\n\u001b[0;32m    182\u001b[0m     parent \u001b[38;5;241m=\u001b[39m _get_parent(elem)\n\u001b[1;32m--> 183\u001b[0m     \u001b[38;5;28;01mraise\u001b[39;00m AnnDataReadError(\n\u001b[0;32m    184\u001b[0m         \u001b[38;5;124mf\u001b[39m\u001b[38;5;124m\"\u001b[39m\u001b[38;5;124mAbove error raised while reading key \u001b[39m\u001b[38;5;132;01m{\u001b[39;00melem\u001b[38;5;241m.\u001b[39mname\u001b[38;5;132;01m!r}\u001b[39;00m\u001b[38;5;124m of \u001b[39m\u001b[38;5;124m\"\u001b[39m\n\u001b[0;32m    185\u001b[0m         \u001b[38;5;124mf\u001b[39m\u001b[38;5;124m\"\u001b[39m\u001b[38;5;124mtype \u001b[39m\u001b[38;5;132;01m{\u001b[39;00m\u001b[38;5;28mtype\u001b[39m(elem)\u001b[38;5;132;01m}\u001b[39;00m\u001b[38;5;124m from \u001b[39m\u001b[38;5;132;01m{\u001b[39;00mparent\u001b[38;5;132;01m}\u001b[39;00m\u001b[38;5;124m.\u001b[39m\u001b[38;5;124m\"\u001b[39m\n\u001b[0;32m    186\u001b[0m     )\n",
      "\u001b[1;31mAnnDataReadError\u001b[0m: Above error raised while reading key '/layers' of type <class 'h5py._hl.group.Group'> from /."
     ]
    }
   ],
   "source": [
    "pbmc_ld = anndata.read_h5ad(\n",
    "    \"../scgen-datasets/pbmc-low-dim.h5ad\" \n",
    ")\n",
    "pbmc_ld.obs"
   ]
  },
  {
   "cell_type": "markdown",
   "metadata": {},
   "source": [
    "#### 2.2.hploy data "
   ]
  },
  {
   "cell_type": "code",
   "execution_count": 6,
   "metadata": {},
   "outputs": [
    {
     "name": "stdout",
     "output_type": "stream",
     "text": [
      "{'Enterocyte', 'Stem', 'Tuft', 'Enterocyte.Progenitor', 'Endocrine', 'TA', 'TA.Early', 'Goblet'}\n",
      "{'Control', 'Hpoly.Day10'}\n"
     ]
    }
   ],
   "source": [
    "import anndata\n",
    "hpoly = anndata.read_h5ad(\"../scgen-datasets/train_hpoly.h5ad\")\n",
    "hpoly.obs.head()\n",
    "print(set(hpoly.obs['cell_label']))\n",
    "print(set(hpoly.obs['condition']))"
   ]
  },
  {
   "cell_type": "markdown",
   "metadata": {},
   "source": [
    "### 3.valid model's performance on scgen datasets"
   ]
  },
  {
   "cell_type": "code",
   "execution_count": 33,
   "metadata": {},
   "outputs": [
    {
     "data": {
      "text/html": [
       "<div>\n",
       "<style scoped>\n",
       "    .dataframe tbody tr th:only-of-type {\n",
       "        vertical-align: middle;\n",
       "    }\n",
       "\n",
       "    .dataframe tbody tr th {\n",
       "        vertical-align: top;\n",
       "    }\n",
       "\n",
       "    .dataframe thead th {\n",
       "        text-align: right;\n",
       "    }\n",
       "</style>\n",
       "<table border=\"1\" class=\"dataframe\">\n",
       "  <thead>\n",
       "    <tr style=\"text-align: right;\">\n",
       "      <th></th>\n",
       "      <th>condition</th>\n",
       "      <th>n_counts</th>\n",
       "      <th>n_genes</th>\n",
       "      <th>mt_frac</th>\n",
       "      <th>cell</th>\n",
       "      <th>transport</th>\n",
       "      <th>split</th>\n",
       "    </tr>\n",
       "    <tr>\n",
       "      <th>index</th>\n",
       "      <th></th>\n",
       "      <th></th>\n",
       "      <th></th>\n",
       "      <th></th>\n",
       "      <th></th>\n",
       "      <th></th>\n",
       "      <th></th>\n",
       "    </tr>\n",
       "  </thead>\n",
       "  <tbody>\n",
       "    <tr>\n",
       "      <th>GATTCTTGAACCAC-1-control</th>\n",
       "      <td>control</td>\n",
       "      <td>2264.0</td>\n",
       "      <td>775</td>\n",
       "      <td>0.0</td>\n",
       "      <td>FCGR3A+Mono</td>\n",
       "      <td>source</td>\n",
       "      <td>test</td>\n",
       "    </tr>\n",
       "    <tr>\n",
       "      <th>AATTGTGACCTAAG-1-control</th>\n",
       "      <td>control</td>\n",
       "      <td>1739.0</td>\n",
       "      <td>524</td>\n",
       "      <td>0.0</td>\n",
       "      <td>CD14+Mono</td>\n",
       "      <td>source</td>\n",
       "      <td>test</td>\n",
       "    </tr>\n",
       "    <tr>\n",
       "      <th>ATCGCGCTATGGTC-1-control</th>\n",
       "      <td>control</td>\n",
       "      <td>2164.0</td>\n",
       "      <td>945</td>\n",
       "      <td>0.0</td>\n",
       "      <td>B</td>\n",
       "      <td>source</td>\n",
       "      <td>test</td>\n",
       "    </tr>\n",
       "    <tr>\n",
       "      <th>TTCCATGATCGCTC-1-control</th>\n",
       "      <td>control</td>\n",
       "      <td>1645.0</td>\n",
       "      <td>696</td>\n",
       "      <td>0.0</td>\n",
       "      <td>CD8T</td>\n",
       "      <td>source</td>\n",
       "      <td>test</td>\n",
       "    </tr>\n",
       "    <tr>\n",
       "      <th>CGACTCTGCCAAGT-1-control</th>\n",
       "      <td>control</td>\n",
       "      <td>1899.0</td>\n",
       "      <td>563</td>\n",
       "      <td>0.0</td>\n",
       "      <td>CD14+Mono</td>\n",
       "      <td>source</td>\n",
       "      <td>test</td>\n",
       "    </tr>\n",
       "  </tbody>\n",
       "</table>\n",
       "</div>"
      ],
      "text/plain": [
       "                         condition  n_counts  n_genes  mt_frac         cell  \\\n",
       "index                                                                         \n",
       "GATTCTTGAACCAC-1-control   control    2264.0      775      0.0  FCGR3A+Mono   \n",
       "AATTGTGACCTAAG-1-control   control    1739.0      524      0.0    CD14+Mono   \n",
       "ATCGCGCTATGGTC-1-control   control    2164.0      945      0.0            B   \n",
       "TTCCATGATCGCTC-1-control   control    1645.0      696      0.0         CD8T   \n",
       "CGACTCTGCCAAGT-1-control   control    1899.0      563      0.0    CD14+Mono   \n",
       "\n",
       "                         transport split  \n",
       "index                                     \n",
       "GATTCTTGAACCAC-1-control    source  test  \n",
       "AATTGTGACCTAAG-1-control    source  test  \n",
       "ATCGCGCTATGGTC-1-control    source  test  \n",
       "TTCCATGATCGCTC-1-control    source  test  \n",
       "CGACTCTGCCAAGT-1-control    source  test  "
      ]
     },
     "execution_count": 33,
     "metadata": {},
     "output_type": "execute_result"
    }
   ],
   "source": [
    "imputed = anndata.read_h5ad(\"../results/model-cellot/scgen-pbmc/evals_iid_data_space/imputed.h5ad\")\n",
    "imputed.obs.head()"
   ]
  },
  {
   "cell_type": "code",
   "execution_count": 34,
   "metadata": {},
   "outputs": [
    {
     "name": "stdout",
     "output_type": "stream",
     "text": [
      "895\n"
     ]
    }
   ],
   "source": [
    "print(imputed.obs.shape[0])"
   ]
  },
  {
   "cell_type": "markdown",
   "metadata": {},
   "source": [
    "#### 3.1. Fig.2e and 2f"
   ]
  },
  {
   "cell_type": "code",
   "execution_count": 58,
   "metadata": {},
   "outputs": [
    {
     "name": "stdout",
     "output_type": "stream",
     "text": [
      "解析命令行参数\n",
      "Plotting kNN Enrichment and MMD Evaluation.\n"
     ]
    }
   ],
   "source": [
    "import sys\n",
    "sys.path.append(\"D:\\pythonDev\\cellot\\scripts\")\n",
    "from plot import main\n",
    "from absl.flags import FLAGS\n",
    "\n",
    "# 设置命令行参数\n",
    "sys.argv = [\n",
    "    'plot.py',\n",
    "    '--evaldir=D:\\\\pythonDev\\\\cellot\\\\results\\\\scgen-pbmc-sub',\n",
    "    '--comparison_only=False',\n",
    "    '--setting=iid',\n",
    "    '--where=data_space',\n",
    "    '--logscale=False'\n",
    "]\n",
    "\n",
    "print(\"解析命令行参数\")\n",
    "FLAGS(sys.argv)\n",
    "main(sys.argv)\n"
   ]
  },
  {
   "cell_type": "code",
   "execution_count": 54,
   "metadata": {},
   "outputs": [],
   "source": [
    "import os\n",
    "import pandas as pd\n",
    "\n",
    "res_base_dir = \"../results/scgen-pbmc-sub/model-cellot/evals_iid_data_space\"\n",
    "knn_basename = \"k50\"\n",
    "path = \"../results/scgen-pbmc-sub/model-cellot/evals_iid_data_space\"\n",
    "eval_path = os.path.join(path, \"evals.csv\")\n",
    "\n",
    "evals = pd.read_csv(eval_path)\n",
    "# 将 evals的第一列更名为model, 并全部赋值为cellot\n",
    "evals.drop(columns=['model', 'gamma'], inplace=True)\n",
    "evals.insert(0, 'model', 'cellot')\n",
    "evals['gamma'] = 0\n",
    "evals.to_csv(os.path.join(res_base_dir, 'evals.csv'), index=False)"
   ]
  },
  {
   "cell_type": "code",
   "execution_count": 55,
   "metadata": {},
   "outputs": [
    {
     "data": {
      "text/html": [
       "<div>\n",
       "<style scoped>\n",
       "    .dataframe tbody tr th:only-of-type {\n",
       "        vertical-align: middle;\n",
       "    }\n",
       "\n",
       "    .dataframe tbody tr th {\n",
       "        vertical-align: top;\n",
       "    }\n",
       "\n",
       "    .dataframe thead th {\n",
       "        text-align: right;\n",
       "    }\n",
       "</style>\n",
       "<table border=\"1\" class=\"dataframe\">\n",
       "  <thead>\n",
       "    <tr style=\"text-align: right;\">\n",
       "      <th></th>\n",
       "      <th>ncells</th>\n",
       "      <th>nfeatures</th>\n",
       "      <th>metric</th>\n",
       "      <th>mmd</th>\n",
       "      <th>gamma</th>\n",
       "    </tr>\n",
       "  </thead>\n",
       "  <tbody>\n",
       "    <tr>\n",
       "      <th>0</th>\n",
       "      <td>100</td>\n",
       "      <td>all</td>\n",
       "      <td>mmd</td>\n",
       "      <td>0.013010</td>\n",
       "      <td>0</td>\n",
       "    </tr>\n",
       "    <tr>\n",
       "      <th>1</th>\n",
       "      <td>100</td>\n",
       "      <td>all</td>\n",
       "      <td>mmd</td>\n",
       "      <td>0.013121</td>\n",
       "      <td>0</td>\n",
       "    </tr>\n",
       "    <tr>\n",
       "      <th>2</th>\n",
       "      <td>100</td>\n",
       "      <td>all</td>\n",
       "      <td>mmd</td>\n",
       "      <td>0.014655</td>\n",
       "      <td>0</td>\n",
       "    </tr>\n",
       "    <tr>\n",
       "      <th>3</th>\n",
       "      <td>100</td>\n",
       "      <td>all</td>\n",
       "      <td>mmd</td>\n",
       "      <td>0.011842</td>\n",
       "      <td>0</td>\n",
       "    </tr>\n",
       "    <tr>\n",
       "      <th>4</th>\n",
       "      <td>100</td>\n",
       "      <td>all</td>\n",
       "      <td>mmd</td>\n",
       "      <td>0.014995</td>\n",
       "      <td>0</td>\n",
       "    </tr>\n",
       "  </tbody>\n",
       "</table>\n",
       "</div>"
      ],
      "text/plain": [
       "   ncells nfeatures metric       mmd  gamma\n",
       "0     100       all    mmd  0.013010      0\n",
       "1     100       all    mmd  0.013121      0\n",
       "2     100       all    mmd  0.014655      0\n",
       "3     100       all    mmd  0.011842      0\n",
       "4     100       all    mmd  0.014995      0"
      ]
     },
     "execution_count": 55,
     "metadata": {},
     "output_type": "execute_result"
    }
   ],
   "source": [
    "mmd_path = os.path.join(path, \"mmd.csv\")    \n",
    "enrichment_path = os.path.join(path, f\"{knn_basename}_enrichment.csv\")\n",
    "\n",
    "with open(eval_path, mode=\"r\") as r :\n",
    "    with open(mmd_path, mode=\"w\") as w:\n",
    "        lines = r.readlines()\n",
    "        for l, line in enumerate(lines):\n",
    "            if l == 0:\n",
    "                line = line.strip(\"\\n\")\n",
    "                line = line + \"\\n\"\n",
    "                w.write(line)\n",
    "            \n",
    "            if \"mmd\" in line:\n",
    "                line = line.strip(\"\\n\")\n",
    "                line = line + \"\\n\"\n",
    "                w.write(line)\n",
    "\n",
    "with open(eval_path, mode=\"r\") as r :\n",
    "    with open(enrichment_path, mode=\"w\") as w:\n",
    "        lines = r.readlines()\n",
    "        for l, line in enumerate(lines):\n",
    "            if l == 0:\n",
    "                line = line.strip(\"\\n\")\n",
    "                line = line + \"\\n\"\n",
    "                w.write(line)\n",
    "            \n",
    "            if f\"enrichment-{knn_basename}\" in line:\n",
    "                line = line.strip(\"\\n\")\n",
    "                line = line + \"\\n\"\n",
    "                w.write(line)   \n",
    "\n",
    "mmd = pd.read_csv(\"../results/scgen-pbmc-sub/model-cellot/evals_iid_data_space/mmd.csv\")\n",
    "mmd.rename(columns={\"value\": \"mmd\"}, inplace=True)\n",
    "mmd.drop(columns=['model'], inplace=True)\n",
    "mmd.to_csv(os.path.join(res_base_dir, \"mmd.csv\"), index=False)\n",
    "mmd.head()         "
   ]
  },
  {
   "cell_type": "code",
   "execution_count": 57,
   "metadata": {},
   "outputs": [
    {
     "data": {
      "text/html": [
       "<div>\n",
       "<style scoped>\n",
       "    .dataframe tbody tr th:only-of-type {\n",
       "        vertical-align: middle;\n",
       "    }\n",
       "\n",
       "    .dataframe tbody tr th {\n",
       "        vertical-align: top;\n",
       "    }\n",
       "\n",
       "    .dataframe thead th {\n",
       "        text-align: right;\n",
       "    }\n",
       "</style>\n",
       "<table border=\"1\" class=\"dataframe\">\n",
       "  <thead>\n",
       "    <tr style=\"text-align: right;\">\n",
       "      <th></th>\n",
       "      <th>ncells</th>\n",
       "      <th>nfeatures</th>\n",
       "      <th>metric</th>\n",
       "      <th>value</th>\n",
       "      <th>gamma</th>\n",
       "    </tr>\n",
       "  </thead>\n",
       "  <tbody>\n",
       "    <tr>\n",
       "      <th>0</th>\n",
       "      <td>100</td>\n",
       "      <td>all</td>\n",
       "      <td>enrichment-k50</td>\n",
       "      <td>0.6102</td>\n",
       "      <td>0</td>\n",
       "    </tr>\n",
       "    <tr>\n",
       "      <th>1</th>\n",
       "      <td>100</td>\n",
       "      <td>all</td>\n",
       "      <td>enrichment-k50</td>\n",
       "      <td>0.5908</td>\n",
       "      <td>0</td>\n",
       "    </tr>\n",
       "    <tr>\n",
       "      <th>2</th>\n",
       "      <td>100</td>\n",
       "      <td>all</td>\n",
       "      <td>enrichment-k50</td>\n",
       "      <td>0.5978</td>\n",
       "      <td>0</td>\n",
       "    </tr>\n",
       "    <tr>\n",
       "      <th>3</th>\n",
       "      <td>100</td>\n",
       "      <td>all</td>\n",
       "      <td>enrichment-k50</td>\n",
       "      <td>0.5426</td>\n",
       "      <td>0</td>\n",
       "    </tr>\n",
       "    <tr>\n",
       "      <th>4</th>\n",
       "      <td>100</td>\n",
       "      <td>all</td>\n",
       "      <td>enrichment-k50</td>\n",
       "      <td>0.6098</td>\n",
       "      <td>0</td>\n",
       "    </tr>\n",
       "  </tbody>\n",
       "</table>\n",
       "</div>"
      ],
      "text/plain": [
       "   ncells nfeatures          metric   value  gamma\n",
       "0     100       all  enrichment-k50  0.6102      0\n",
       "1     100       all  enrichment-k50  0.5908      0\n",
       "2     100       all  enrichment-k50  0.5978      0\n",
       "3     100       all  enrichment-k50  0.5426      0\n",
       "4     100       all  enrichment-k50  0.6098      0"
      ]
     },
     "execution_count": 57,
     "metadata": {},
     "output_type": "execute_result"
    }
   ],
   "source": [
    "\n",
    "k50 = pd.read_csv(\"../results/scgen-pbmc-sub/model-cellot/evals_iid_data_space/k50_enrichment.csv\")\n",
    "k50.drop(columns=['model'], inplace=True)\n",
    "k50.head()"
   ]
  },
  {
   "cell_type": "code",
   "execution_count": 50,
   "metadata": {},
   "outputs": [
    {
     "data": {
      "text/html": [
       "<div>\n",
       "<style scoped>\n",
       "    .dataframe tbody tr th:only-of-type {\n",
       "        vertical-align: middle;\n",
       "    }\n",
       "\n",
       "    .dataframe tbody tr th {\n",
       "        vertical-align: top;\n",
       "    }\n",
       "\n",
       "    .dataframe thead th {\n",
       "        text-align: right;\n",
       "    }\n",
       "</style>\n",
       "<table border=\"1\" class=\"dataframe\">\n",
       "  <thead>\n",
       "    <tr style=\"text-align: right;\">\n",
       "      <th></th>\n",
       "      <th>ncells</th>\n",
       "      <th>nfeatures</th>\n",
       "      <th>metric</th>\n",
       "      <th>value</th>\n",
       "    </tr>\n",
       "  </thead>\n",
       "  <tbody>\n",
       "    <tr>\n",
       "      <th>0</th>\n",
       "      <td>100</td>\n",
       "      <td>all</td>\n",
       "      <td>enrichment-k100</td>\n",
       "      <td>0.556667</td>\n",
       "    </tr>\n",
       "    <tr>\n",
       "      <th>1</th>\n",
       "      <td>100</td>\n",
       "      <td>all</td>\n",
       "      <td>enrichment-k100</td>\n",
       "      <td>0.554545</td>\n",
       "    </tr>\n",
       "    <tr>\n",
       "      <th>2</th>\n",
       "      <td>100</td>\n",
       "      <td>all</td>\n",
       "      <td>enrichment-k100</td>\n",
       "      <td>0.569394</td>\n",
       "    </tr>\n",
       "    <tr>\n",
       "      <th>3</th>\n",
       "      <td>100</td>\n",
       "      <td>all</td>\n",
       "      <td>enrichment-k100</td>\n",
       "      <td>0.521919</td>\n",
       "    </tr>\n",
       "    <tr>\n",
       "      <th>4</th>\n",
       "      <td>100</td>\n",
       "      <td>all</td>\n",
       "      <td>enrichment-k100</td>\n",
       "      <td>0.566768</td>\n",
       "    </tr>\n",
       "  </tbody>\n",
       "</table>\n",
       "</div>"
      ],
      "text/plain": [
       "   ncells nfeatures           metric     value\n",
       "0     100       all  enrichment-k100  0.556667\n",
       "1     100       all  enrichment-k100  0.554545\n",
       "2     100       all  enrichment-k100  0.569394\n",
       "3     100       all  enrichment-k100  0.521919\n",
       "4     100       all  enrichment-k100  0.566768"
      ]
     },
     "execution_count": 50,
     "metadata": {},
     "output_type": "execute_result"
    }
   ],
   "source": [
    "k100 = pd.read_csv(\"../results/scgen-pbmc-sub/model-cellot/evals_iid_data_space/k100_enrichment.csv\")\n",
    "k100.head()"
   ]
  },
  {
   "cell_type": "code",
   "execution_count": 51,
   "metadata": {},
   "outputs": [
    {
     "data": {
      "text/html": [
       "<div>\n",
       "<style scoped>\n",
       "    .dataframe tbody tr th:only-of-type {\n",
       "        vertical-align: middle;\n",
       "    }\n",
       "\n",
       "    .dataframe tbody tr th {\n",
       "        vertical-align: top;\n",
       "    }\n",
       "\n",
       "    .dataframe thead th {\n",
       "        text-align: right;\n",
       "    }\n",
       "</style>\n",
       "<table border=\"1\" class=\"dataframe\">\n",
       "  <thead>\n",
       "    <tr style=\"text-align: right;\">\n",
       "      <th></th>\n",
       "      <th>model</th>\n",
       "      <th>ncells</th>\n",
       "      <th>nfeatures</th>\n",
       "      <th>metric</th>\n",
       "      <th>mmd</th>\n",
       "      <th>gamma</th>\n",
       "    </tr>\n",
       "  </thead>\n",
       "  <tbody>\n",
       "    <tr>\n",
       "      <th>0</th>\n",
       "      <td>cellot</td>\n",
       "      <td>100</td>\n",
       "      <td>all</td>\n",
       "      <td>mmd</td>\n",
       "      <td>0.013010</td>\n",
       "      <td>0</td>\n",
       "    </tr>\n",
       "    <tr>\n",
       "      <th>1</th>\n",
       "      <td>cellot</td>\n",
       "      <td>100</td>\n",
       "      <td>all</td>\n",
       "      <td>mmd</td>\n",
       "      <td>0.013121</td>\n",
       "      <td>0</td>\n",
       "    </tr>\n",
       "    <tr>\n",
       "      <th>2</th>\n",
       "      <td>cellot</td>\n",
       "      <td>100</td>\n",
       "      <td>all</td>\n",
       "      <td>mmd</td>\n",
       "      <td>0.014655</td>\n",
       "      <td>0</td>\n",
       "    </tr>\n",
       "    <tr>\n",
       "      <th>3</th>\n",
       "      <td>cellot</td>\n",
       "      <td>100</td>\n",
       "      <td>all</td>\n",
       "      <td>mmd</td>\n",
       "      <td>0.011842</td>\n",
       "      <td>0</td>\n",
       "    </tr>\n",
       "    <tr>\n",
       "      <th>4</th>\n",
       "      <td>cellot</td>\n",
       "      <td>100</td>\n",
       "      <td>all</td>\n",
       "      <td>mmd</td>\n",
       "      <td>0.014995</td>\n",
       "      <td>0</td>\n",
       "    </tr>\n",
       "  </tbody>\n",
       "</table>\n",
       "</div>"
      ],
      "text/plain": [
       "    model  ncells nfeatures metric       mmd  gamma\n",
       "0  cellot     100       all    mmd  0.013010      0\n",
       "1  cellot     100       all    mmd  0.013121      0\n",
       "2  cellot     100       all    mmd  0.014655      0\n",
       "3  cellot     100       all    mmd  0.011842      0\n",
       "4  cellot     100       all    mmd  0.014995      0"
      ]
     },
     "execution_count": 51,
     "metadata": {},
     "output_type": "execute_result"
    }
   ],
   "source": [
    "mmd = pd.read_csv(\"../results/scgen-pbmc-sub/model-cellot/evals_iid_data_space/mmd.csv\")\n",
    "mmd.rename(columns={\"value\": \"mmd\"}, inplace=True)\n",
    "mmd.to_csv(os.path.join(res_base_dir, \"mmd.csv\"),index=False)\n",
    "# mmd.drop(columns=[\"Unnamed: 0\"], inplace=True)\n",
    "mmd.head()   "
   ]
  },
  {
   "cell_type": "markdown",
   "metadata": {},
   "source": [
    "#### merge mmd.csv and k50 into k50_mmd.csv"
   ]
  },
  {
   "cell_type": "code",
   "execution_count": 52,
   "metadata": {},
   "outputs": [],
   "source": [
    "k50_mmd = k50\n",
    "k50_mmd['mmd'] = mmd['mmd']\n",
    "k50_mmd.to_csv(os.path.join(res_base_dir, 'k50_mmd.csv'))"
   ]
  }
 ],
 "metadata": {
  "kernelspec": {
   "display_name": "cellot",
   "language": "python",
   "name": "python3"
  },
  "language_info": {
   "codemirror_mode": {
    "name": "ipython",
    "version": 3
   },
   "file_extension": ".py",
   "mimetype": "text/x-python",
   "name": "python",
   "nbconvert_exporter": "python",
   "pygments_lexer": "ipython3",
   "version": "3.9.5"
  }
 },
 "nbformat": 4,
 "nbformat_minor": 2
}
